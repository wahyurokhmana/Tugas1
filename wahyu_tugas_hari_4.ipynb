{
 "cells": [
  {
   "cell_type": "markdown",
   "id": "49e0ad6a",
   "metadata": {},
   "source": [
    "# Soal 1: Hello World to Python\n",
    "\n",
    "Print Say Hello World to Python"
   ]
  },
  {
   "cell_type": "code",
   "execution_count": 1,
   "id": "0ee42124",
   "metadata": {},
   "outputs": [
    {
     "name": "stdout",
     "output_type": "stream",
     "text": [
      "Say Hello World to Python\n"
     ]
    }
   ],
   "source": [
    "print(\"Say Hello World to Python\")"
   ]
  },
  {
   "cell_type": "markdown",
   "id": "5f5a3942",
   "metadata": {},
   "source": [
    "# Soal 2: Aritmatika di Python\n",
    "\n",
    "- Buat statement pertambahan antara 2 number di Python\n",
    "- Buat statement perkurangan antara 2 number di Python\n",
    "- Buat statement perkalian antara 2 number di Python\n",
    "- Buat statement pembagian antara 2 number di Python"
   ]
  },
  {
   "cell_type": "code",
   "execution_count": 2,
   "id": "a9bc5394",
   "metadata": {},
   "outputs": [
    {
     "name": "stdout",
     "output_type": "stream",
     "text": [
      "18\n",
      "12\n",
      "45\n",
      "5.0\n"
     ]
    }
   ],
   "source": [
    "print(15+3)\n",
    "print(15-3)\n",
    "print(15*3)\n",
    "print(15/3)"
   ]
  },
  {
   "cell_type": "markdown",
   "id": "e0b1d40b",
   "metadata": {},
   "source": [
    "# Soal 3: Assign Variable dan Tipe Data Integer, Float\n",
    "\n",
    "- Buat suatu variabel a dan b, dimana a dan b adalah nilai bertipe data numeric\n",
    "- Berikan suatu nilai bertipe data integer, hasil pembagian dari a dengan b\n",
    "- Berikan suatu nilai bertipe data float, hasil pembagian dari a dengan b"
   ]
  },
  {
   "cell_type": "code",
   "execution_count": 6,
   "id": "d060ef5f",
   "metadata": {},
   "outputs": [
    {
     "name": "stdout",
     "output_type": "stream",
     "text": [
      "10\n",
      "2\n",
      "5.0\n",
      "2.5\n"
     ]
    }
   ],
   "source": [
    "a = 10\n",
    "print(a)\n",
    "b = 2\n",
    "print(b)\n",
    "\n",
    "print(a/b)\n",
    "\n",
    "a = 5\n",
    "b = 2\n",
    "print(a/b)"
   ]
  },
  {
   "cell_type": "markdown",
   "id": "222b7093",
   "metadata": {},
   "source": [
    "# Soal 4: String Operation\n",
    "\n",
    "- Masukan nama depan kamu kedalam suatu variable firstname\n",
    "- Masukan name belakang kamu kedalam suatu variable lastname\n",
    "- Tampilkan suatu kalimat 'Hello sanbercode, saya firstname lastname! saya siap belajar python data science dasar.'"
   ]
  },
  {
   "cell_type": "code",
   "execution_count": 26,
   "id": "950b49ce",
   "metadata": {},
   "outputs": [
    {
     "name": "stdout",
     "output_type": "stream",
     "text": [
      "Hello sanbercode, saya Wahyu Rokhmana! saya siap belajar python data science dasar.\n"
     ]
    }
   ],
   "source": [
    "firstname = \"Wahyu\"\n",
    "lastname = \"Rokhmana\"\n",
    "name = firstname + \" \" +lastname\n",
    "\n",
    "print(f'Hello sanbercode, saya {name}! saya siap belajar python data science dasar.')"
   ]
  },
  {
   "cell_type": "markdown",
   "id": "95d46807",
   "metadata": {},
   "source": [
    "# Soal 5: Tipe Data\n",
    "\n",
    "Lengkapi code dibawah ini untuk menghasilkan output yang sesuai\n",
    "\n",
    "usia =\n",
    "kata = 'usiaku: '\n",
    "print(kata + ...(usia)+...)"
   ]
  },
  {
   "cell_type": "code",
   "execution_count": 29,
   "id": "57772b4f",
   "metadata": {},
   "outputs": [
    {
     "name": "stdout",
     "output_type": "stream",
     "text": [
      "usiaku: 25 Tahun\n"
     ]
    }
   ],
   "source": [
    "usia = 25\n",
    "kata = 'usiaku:'\n",
    "print(kata + \" \" + str(usia) + \" \" + 'Tahun')"
   ]
  },
  {
   "cell_type": "markdown",
   "id": "686cc6bd",
   "metadata": {},
   "source": [
    "# Soal 6: Perbedaan Data Structure\n",
    "\n",
    "Jawab Pertanyaan dibawah ini:\n",
    "\n",
    "Jelaskan perbedaan dari List, Tuple, Set dan Dictionary!"
   ]
  },
  {
   "cell_type": "markdown",
   "id": "cf341015",
   "metadata": {},
   "source": [
    "1. LIST:\n",
    "- struktur data yang paling dinamis daripada yang lain. \n",
    "- termasuk jenis struktur data yang anggotanya dapat diubah (ditambah, dikurang/dihapus, dibagi) sesuai dengan keinginan dan kebutuhan.\n",
    "- list dapat diakses menggunakan index\n",
    "- list menggunakan metode last in first out.\n",
    "- dibatasi oleh tanda siku []\n",
    "\n",
    "\n",
    "2. TUPLE:\n",
    "- struktur data yang relatif paling ringan dan cepat daripada struktur data yang lain.\n",
    "- dibatasi dengan tanda kurung biasa ()\n",
    "- struktur data yang anggotanya tidak bisa diubah (ditambah, dikurang/dihapus, dibagi) atau bersifat imutable\n",
    "- tuple dapat diakses menggunakan index\n",
    "\n",
    "\n",
    "3. SET:\n",
    "- Struktur data yang anggotanya uniqe\n",
    "- struktur data yang dibatasi dengan tanda kurung kurawal {}\n",
    "- struktur data yang anggotanya bisa diubah (hapus, tambah)\n",
    "- struktur data yang tidak dapat diakses dengan index\n",
    "- struktur data yang memiliki sifat seperti himpunan\n",
    "\n",
    "\n",
    "4. DICTIONARY:\n",
    "- struktur data yang anggotanya berpasangan (key:value)\n",
    "- struktur data yang dibatasi dengan tanda kurung kurawal {}\n",
    "- struktur data yang anggotanya bisa diubah\n",
    "- struktur data yang tidak dapat diakses dengan index\n",
    "- struktur data yang dapat diakses nilai dengan kunci"
   ]
  },
  {
   "cell_type": "markdown",
   "id": "2efac983",
   "metadata": {},
   "source": [
    "# Soal 7: Akses List\n",
    "\n",
    "Lengkapi kode untuk menghasilkan suatu output yang diharapkan\n",
    "\n",
    "a = ['1', '13b', 'aa1', 1.32, 22.1, 2.34]\n",
    "#slicing list"
   ]
  },
  {
   "cell_type": "code",
   "execution_count": 32,
   "id": "6622aee9",
   "metadata": {},
   "outputs": [
    {
     "name": "stdout",
     "output_type": "stream",
     "text": [
      "['13b', 'aa1', 1.32, 22.1]\n"
     ]
    }
   ],
   "source": [
    "a = ['1', '13b', 'aa1', 1.32, 22.1, 2.34]\n",
    "\n",
    "print(a[1:5])"
   ]
  },
  {
   "cell_type": "markdown",
   "id": "c404f55e",
   "metadata": {},
   "source": [
    "# Soal 8: Akses Nested List\n",
    "\n",
    "Lengkapi kode untuk menghasilkan suatu output yang diharapkan\n",
    "\n",
    "a = [\n",
    "[5, 9, 8],\n",
    "[0,0,6]\n",
    "]\n",
    "#Subsetting list"
   ]
  },
  {
   "cell_type": "code",
   "execution_count": 18,
   "id": "437f17a1",
   "metadata": {},
   "outputs": [
    {
     "name": "stdout",
     "output_type": "stream",
     "text": [
      "0 6\n"
     ]
    }
   ],
   "source": [
    "a = [\n",
    "    [5, 9, 8],\n",
    "    [0, 0, 6]\n",
    "    ]\n",
    "\n",
    "print(a[1][0],a[1][-1])"
   ]
  },
  {
   "cell_type": "markdown",
   "id": "1fb0ce60",
   "metadata": {},
   "source": [
    "# Soal 9: List Manipulation\n",
    "\n",
    "Lengkapi kode untuk menghasilkan suatu output yang diharapkan\n",
    "\n",
    "a = [\n",
    "    [5, 9, 8],\n",
    "    [0, 0, 6]\n",
    "    ]\n",
    "#change list value\n",
    "\n",
    "print(a)\n",
    "\n",
    "[5, 9, 8], [0, 0, 6]"
   ]
  },
  {
   "cell_type": "code",
   "execution_count": 24,
   "id": "485d94fb",
   "metadata": {},
   "outputs": [
    {
     "name": "stdout",
     "output_type": "stream",
     "text": [
      "[[5, 9, 10], [11, 0, 6]]\n"
     ]
    }
   ],
   "source": [
    "a = [\n",
    "    [5, 9, 8],\n",
    "    [0, 0, 6]\n",
    "    ]\n",
    "\n",
    "a[0][2],a[1][0] = 10, 11\n",
    "print(a)"
   ]
  },
  {
   "cell_type": "markdown",
   "id": "3904ced3",
   "metadata": {},
   "source": [
    "# Soal 10: Delete Element List\n",
    "\n",
    "Lengkapi kode untuk menghasilkan suatu output yang diharapkan\n",
    "\n",
    "areas = [\"hallway\", 11.25, \"kitchen\", 18.0,\n",
    "        \"chill zone\", 20.0, \"bedroom\", 10.75,\n",
    "         \"bathroom\", 10.50, \"poolhouse\", 24.5,\n",
    "         \"garage\", 15.45]\n",
    "         \n",
    "#Hilangkan elemen yang bernilai \"bathroom\" dan 10.50 dalam satu statement code\n",
    "\n",
    "print(areas)\n",
    "\n",
    "['hallway', 11.25, 'kitchen', 18.0, 'chill zone', 20.0, 'bedroom', 10.75, 'bathroom', 10.5, 'poolhouse', 24.5, 'garage', 15.45]"
   ]
  },
  {
   "cell_type": "code",
   "execution_count": 25,
   "id": "3c9cc055",
   "metadata": {
    "scrolled": true
   },
   "outputs": [
    {
     "name": "stdout",
     "output_type": "stream",
     "text": [
      "['hallway', 11.25, 'kitchen', 18.0, 'chill zone', 20.0, 'bedroom', 10.75, 'poolhouse', 24.5, 'garage', 15.45]\n"
     ]
    }
   ],
   "source": [
    "areas = [\"hallway\", 11.25, \"kitchen\", 18.0,\n",
    "        \"chill zone\", 20.0, \"bedroom\", 10.75,\n",
    "         \"bathroom\", 10.50, \"poolhouse\", 24.5,\n",
    "         \"garage\", 15.45]\n",
    "\n",
    "areas.remove(\"bathroom\")\n",
    "areas.remove(10.50)\n",
    "\n",
    "print(areas)"
   ]
  },
  {
   "cell_type": "markdown",
   "id": "6541ef52",
   "metadata": {},
   "source": [
    "# Soal 11: Mengakses Tuple\n",
    "\n",
    "Gunakan cara slicing untuk mengakses tuple sehingga mendapatkan hasil sesuai expected output\n",
    "\n",
    "tuple_1 = (1, 2, 6, 7, 8, 9, 10)\n",
    "\n",
    "#akses tuple"
   ]
  },
  {
   "cell_type": "code",
   "execution_count": 27,
   "id": "d3b9f315",
   "metadata": {},
   "outputs": [
    {
     "name": "stdout",
     "output_type": "stream",
     "text": [
      "(6, 7, 8)\n"
     ]
    }
   ],
   "source": [
    "tuple_1 = (1, 2, 6, 7, 8, 9, 10)\n",
    "\n",
    "print(tuple_1[2:5])"
   ]
  },
  {
   "cell_type": "markdown",
   "id": "39531663",
   "metadata": {},
   "source": [
    "# Soal 12: Menambahkan key-value baru ke Dictionary\n",
    "\n",
    "Lengkapi kode untuk menghasilkan suatu output yang diharapkan\n",
    "\n",
    "europe = {'spain':'madrid', 'france':'paris', 'germany':'berlin', 'norway':'oslo' }\n",
    "\n",
    "#tambahkan key itali ke objek dictionary dengan value roma\n",
    "\n",
    "\n",
    "#cek apakah itali ada di dalam objek dictionary"
   ]
  },
  {
   "cell_type": "code",
   "execution_count": 40,
   "id": "8bbb1aaf",
   "metadata": {},
   "outputs": [
    {
     "data": {
      "text/plain": [
       "True"
      ]
     },
     "execution_count": 40,
     "metadata": {},
     "output_type": "execute_result"
    }
   ],
   "source": [
    "europe = {'spain':'madrid', 'france':'paris', 'germany':'berlin', 'norway':'oslo'}\n",
    "\n",
    "europe['itali'] = 'roma'\n",
    "\n",
    "'itali' in europe"
   ]
  },
  {
   "cell_type": "markdown",
   "id": "a364f9fe",
   "metadata": {},
   "source": [
    "# Soal 13: Update dan Remove Dictionary\n",
    "\n",
    "Lengkapi kode untuk menghasilkan suatu output yang diharapkan\n",
    "\n",
    "europe = {'spain':'madrid', 'france':'paris', 'germany':'bonn',\n",
    "          'norway':'oslo', 'italy':'rome', 'poland':'warsaw',\n",
    "          'australia':'vienna' }\n",
    "\n",
    "#update nilai ibukota german ke berlin\n",
    "\n",
    "\n",
    "#remove australia dari europa\n",
    "\n",
    "\n",
    "print(europe)\n",
    "{'spain': 'madrid', 'france': 'paris', 'germany': 'bonn', 'norway': 'oslo', 'italy': 'rome', 'poland': 'warsaw', 'australia': 'vienna'}"
   ]
  },
  {
   "cell_type": "code",
   "execution_count": 41,
   "id": "e3b1d94b",
   "metadata": {},
   "outputs": [
    {
     "name": "stdout",
     "output_type": "stream",
     "text": [
      "{'spain': 'madrid', 'france': 'paris', 'germany': 'berlin', 'norway': 'oslo', 'italy': 'rome', 'poland': 'warsaw'}\n"
     ]
    }
   ],
   "source": [
    "europe = {'spain':'madrid', 'france':'paris', 'germany':'bonn',\n",
    "          'norway':'oslo', 'italy':'rome', 'poland':'warsaw',\n",
    "          'australia':'vienna' }\n",
    "\n",
    "europe['germany'] = 'berlin'\n",
    "\n",
    "europe.pop('australia')\n",
    "print(europe)"
   ]
  },
  {
   "cell_type": "markdown",
   "id": "ee04647b",
   "metadata": {},
   "source": [
    "# Soal 14: Loop Dictionary\n",
    "\n",
    "Lengkapi kode untuk menghasilkan suatu output yang diharapkan\n",
    "\n",
    "country = { \n",
    "           'spain': { 'capital':'madrid', 'population':46.77 },\n",
    "           'france': { 'capital':'paris', 'population':66.03 },\n",
    "           'germany': { 'capital':'berlin', 'population':80.62 },\n",
    "           'norway': { 'capital':'oslo', 'population':5.084 },\n",
    "           'indonesia' : {'capital':'jakarta', 'population':250}\n",
    "         }\n",
    "\n",
    "for ..., .... in country.items():\n",
    "    print('Ibukota '+....+' adalah ' + ....)"
   ]
  },
  {
   "cell_type": "code",
   "execution_count": 52,
   "id": "aab1c6d6",
   "metadata": {},
   "outputs": [
    {
     "name": "stdout",
     "output_type": "stream",
     "text": [
      "Ibukota spain adalah {'capital': 'madrid', 'population': 46.77}\n",
      "Ibukota france adalah {'capital': 'paris', 'population': 66.03}\n",
      "Ibukota germany adalah {'capital': 'berlin', 'population': 80.62}\n",
      "Ibukota norway adalah {'capital': 'oslo', 'population': 5.084}\n",
      "Ibukota indonesia adalah {'capital': 'jakarta', 'population': 250}\n"
     ]
    }
   ],
   "source": [
    "country = { \n",
    "           'spain': { 'capital':'madrid', 'population':46.77 },\n",
    "           'france': { 'capital':'paris', 'population':66.03 },\n",
    "           'germany': { 'capital':'berlin', 'population':80.62 },\n",
    "           'norway': { 'capital':'oslo', 'population':5.084 },\n",
    "           'indonesia' : {'capital':'jakarta', 'population':250}\n",
    "         }\n",
    "\n",
    "for x, y in country.items():\n",
    "    print('Ibukota '+str(x)+' adalah ' + str(y))"
   ]
  },
  {
   "cell_type": "markdown",
   "id": "5bb7feda",
   "metadata": {},
   "source": [
    "# Soal 15: Remove Duplicate Using Set\n",
    "\n",
    "Hilangkan nilai duplikat dari sebuah objek list dengan menggunakan cara set sehingga menjadi sebuah tipe set\n",
    "\n",
    "obj_list = [1, 2, 3, 4, 5, 5, 6, 7, 8, 9, 9, 10]\n",
    "\n",
    "#using set"
   ]
  },
  {
   "cell_type": "code",
   "execution_count": 62,
   "id": "75fdd88a",
   "metadata": {},
   "outputs": [
    {
     "name": "stdout",
     "output_type": "stream",
     "text": [
      "{1, 2, 3, 4, 5, 6, 7, 8, 9, 10}\n"
     ]
    }
   ],
   "source": [
    "obj_list = {1, 2, 3, 4, 5, 5, 6, 7, 8, 9, 9, 10}\n",
    "\n",
    "print(obj_list)"
   ]
  },
  {
   "cell_type": "markdown",
   "id": "093aa23f",
   "metadata": {},
   "source": [
    "# Soal 16: Operasi pada Set\n",
    "\n",
    "Carilah irisan dari kedua set dengan menggunakan metode intersection\n",
    "\n",
    "set_2 = {6, 8, 9, 10, 24}\n",
    "set_3 = {6, 10, 8, 25, 13}\n",
    "\n",
    "#intersection set"
   ]
  },
  {
   "cell_type": "code",
   "execution_count": 65,
   "id": "3cd0bc09",
   "metadata": {},
   "outputs": [
    {
     "name": "stdout",
     "output_type": "stream",
     "text": [
      "usiaku:  {8, 10, 6} Tahun\n"
     ]
    }
   ],
   "source": [
    "set_2 = {6, 8, 9, 10, 24}\n",
    "set_3 = {6, 10, 8, 25, 13}\n",
    "kata = 'usiaku: '\n",
    "\n",
    "print(kata, set_2 & set_3, \"Tahun\")"
   ]
  }
 ],
 "metadata": {
  "kernelspec": {
   "display_name": "Python 3 (ipykernel)",
   "language": "python",
   "name": "python3"
  },
  "language_info": {
   "codemirror_mode": {
    "name": "ipython",
    "version": 3
   },
   "file_extension": ".py",
   "mimetype": "text/x-python",
   "name": "python",
   "nbconvert_exporter": "python",
   "pygments_lexer": "ipython3",
   "version": "3.10.2"
  }
 },
 "nbformat": 4,
 "nbformat_minor": 5
}
